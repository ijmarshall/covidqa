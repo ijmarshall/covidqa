{
 "cells": [
  {
   "cell_type": "code",
   "execution_count": 2,
   "metadata": {},
   "outputs": [],
   "source": [
    "import torch\n",
    "import numpy as np\n",
    "import pandas as pd"
   ]
  },
  {
   "cell_type": "code",
   "execution_count": 3,
   "metadata": {},
   "outputs": [],
   "source": [
    "df = pd.read_csv(\"data/nhs_corona.csv\")"
   ]
  },
  {
   "cell_type": "code",
   "execution_count": 4,
   "metadata": {},
   "outputs": [
    {
     "data": {
      "text/html": [
       "<div>\n",
       "<style scoped>\n",
       "    .dataframe tbody tr th:only-of-type {\n",
       "        vertical-align: middle;\n",
       "    }\n",
       "\n",
       "    .dataframe tbody tr th {\n",
       "        vertical-align: top;\n",
       "    }\n",
       "\n",
       "    .dataframe thead th {\n",
       "        text-align: right;\n",
       "    }\n",
       "</style>\n",
       "<table border=\"1\" class=\"dataframe\">\n",
       "  <thead>\n",
       "    <tr style=\"text-align: right;\">\n",
       "      <th></th>\n",
       "      <th>Unnamed: 0</th>\n",
       "      <th>date</th>\n",
       "      <th>url</th>\n",
       "      <th>title</th>\n",
       "      <th>format</th>\n",
       "      <th>text</th>\n",
       "    </tr>\n",
       "  </thead>\n",
       "  <tbody>\n",
       "    <tr>\n",
       "      <th>0</th>\n",
       "      <td>0</td>\n",
       "      <td>2020-03-20</td>\n",
       "      <td>https://www.england.nhs.uk/coronavirus/</td>\n",
       "      <td>NaN</td>\n",
       "      <td>text/html; charset=UTF-8</td>\n",
       "      <td>Coronavirus\\nSkip to main content\\nCookies on ...</td>\n",
       "    </tr>\n",
       "    <tr>\n",
       "      <th>1</th>\n",
       "      <td>1</td>\n",
       "      <td>2020-03-20</td>\n",
       "      <td>https://www.england.nhs.uk/accessibility/</td>\n",
       "      <td>NaN</td>\n",
       "      <td>text/html; charset=UTF-8</td>\n",
       "      <td>NHS England » About accessibility\\nSkip to mai...</td>\n",
       "    </tr>\n",
       "    <tr>\n",
       "      <th>2</th>\n",
       "      <td>2</td>\n",
       "      <td>2020-03-20</td>\n",
       "      <td>https://www.england.nhs.uk/coronavirus/publica...</td>\n",
       "      <td>NaN</td>\n",
       "      <td>text/html; charset=UTF-8</td>\n",
       "      <td>Coronavirus » Letter: Covid-19 and professiona...</td>\n",
       "    </tr>\n",
       "    <tr>\n",
       "      <th>3</th>\n",
       "      <td>3</td>\n",
       "      <td>2020-03-20</td>\n",
       "      <td>https://www.gov.uk/government/publications/cov...</td>\n",
       "      <td>NaN</td>\n",
       "      <td>text/html; charset=UTF-8</td>\n",
       "      <td>COVID-19: guidance for households with possibl...</td>\n",
       "    </tr>\n",
       "    <tr>\n",
       "      <th>4</th>\n",
       "      <td>4</td>\n",
       "      <td>2020-03-20</td>\n",
       "      <td>https://www.gov.uk/government/organisations</td>\n",
       "      <td>NaN</td>\n",
       "      <td>text/html; charset=UTF-8</td>\n",
       "      <td>Departments, agencies and public bodies - GOV....</td>\n",
       "    </tr>\n",
       "  </tbody>\n",
       "</table>\n",
       "</div>"
      ],
      "text/plain": [
       "   Unnamed: 0        date                                                url  \\\n",
       "0           0  2020-03-20            https://www.england.nhs.uk/coronavirus/   \n",
       "1           1  2020-03-20          https://www.england.nhs.uk/accessibility/   \n",
       "2           2  2020-03-20  https://www.england.nhs.uk/coronavirus/publica...   \n",
       "3           3  2020-03-20  https://www.gov.uk/government/publications/cov...   \n",
       "4           4  2020-03-20        https://www.gov.uk/government/organisations   \n",
       "\n",
       "   title                    format  \\\n",
       "0    NaN  text/html; charset=UTF-8   \n",
       "1    NaN  text/html; charset=UTF-8   \n",
       "2    NaN  text/html; charset=UTF-8   \n",
       "3    NaN  text/html; charset=UTF-8   \n",
       "4    NaN  text/html; charset=UTF-8   \n",
       "\n",
       "                                                text  \n",
       "0  Coronavirus\\nSkip to main content\\nCookies on ...  \n",
       "1  NHS England » About accessibility\\nSkip to mai...  \n",
       "2  Coronavirus » Letter: Covid-19 and professiona...  \n",
       "3  COVID-19: guidance for households with possibl...  \n",
       "4  Departments, agencies and public bodies - GOV....  "
      ]
     },
     "execution_count": 4,
     "metadata": {},
     "output_type": "execute_result"
    }
   ],
   "source": [
    "df.head()"
   ]
  },
  {
   "cell_type": "markdown",
   "metadata": {},
   "source": [
    "### Helper for text"
   ]
  },
  {
   "cell_type": "code",
   "execution_count": 40,
   "metadata": {},
   "outputs": [],
   "source": [
    "from bs4 import BeautifulSoup \n",
    "\n",
    "import spacy\n",
    "nlp = spacy.load(\"en_core_web_sm\")"
   ]
  },
  {
   "cell_type": "code",
   "execution_count": 49,
   "metadata": {},
   "outputs": [],
   "source": [
    "def get_sentences(html):\n",
    "    soup = BeautifulSoup(html) \n",
    "    spacy_text =  nlp(soup.get_text())\n",
    "    return spacy_text.sents\n",
    "\n",
    "sentences = list(get_sentences(df['text'].values[0]))"
   ]
  },
  {
   "cell_type": "code",
   "execution_count": 50,
   "metadata": {},
   "outputs": [
    {
     "data": {
      "text/plain": [
       "[Coronavirus\n",
       " Skip to main content\n",
       " Cookies on the NHS England and NHS Improvement website,\n",
       " We’ve put some small files called cookies on your device to make our site work.,\n",
       " We’d also like to use analytics cookies.,\n",
       " These send information about how our site is used to a service called Google Analytics.,\n",
       " We use this information to improve our site.,\n",
       " Let us know if this is OK.,\n",
       " We’ll use a cookie to save your choice.,\n",
       " You can read more about our cookies before you choose.,\n",
       " Change my preferences,\n",
       " I'm OK with analytics cookies\n",
       " NHS England and NHS Improvement coronavirus\n",
       " Search\n",
       " Search\n",
       " Menu,\n",
       " Our advice for clinicians on the coronavirus is here.,\n",
       " If you are a member of the public looking for health advice, go to the NHS website.,\n",
       " And if you are looking for the latest travel information, and advice about the government response to the outbreak, go to the gov.uk website.,\n",
       " Last updated on:,\n",
       " 20 March, 2020 10:55 am\n",
       " Coronavirus guidance for clinicians\n",
       " Primary care\n",
       " Secondary care\n",
       " Community health, social care and ambulance services\n",
       " Are you a clinician considering a return to the NHS?,\n",
       " Find out more\n",
       " Site last updated on: 20 March, 2020, 5:47pm\n",
       " Key documents\n",
       " Guidance on supply and use of Personal Protective Equipment (PPE)–\n",
       " 20 March 2020\n",
       " Cancer alliance information on managing cancer referrals–\n",
       " 19 March 2020\n",
       " Covid-19 and professional standards activities (including appraisal and revalidation),\n",
       " –,\n",
       " 19 March 2020\n",
       " Letter to HR colleagues – 19 March 2020\n",
       " COVID-19 prioritisation within community health services with annex –,\n",
       " 20 March 2020\n",
       " Supporting allied health professionals and allied health professional support workers during the COVID-19 epidemic in the UK – 19 March 2020\n",
       " COVID-19 hospital discharge service requirements,\n",
       " – 19 March 2020,\n",
       " Next steps on general practice response to COVID-19 – 19 March 2020,\n",
       " Next steps on NHS response to COVID-19, letter issued by Sir Simon Stevens and Amanda Pritchard – 17 March 2020.,\n",
       " Visitor guidance,\n",
       " This applies to all inpatient, diagnostic and outpatient areas – 16 March 2020,\n",
       " This is the latest self-isolation guidance It applies to everyone, including NHS staff – 12 March 2020,\n",
       " This website is developing.,\n",
       " If you are an NHS clinician and you find an error please provide details.,\n",
       " Terms and conditions\n",
       " Privacy and cookies\n",
       " Social media and comment moderation\n",
       " Accessibility\n",
       " Open Government Licence v3.0\n",
       " Follow us on Twitter,\n",
       " Visit us on LinkedIn\n",
       " Watch videos on YouTube\n",
       " View photos on Flickr]"
      ]
     },
     "execution_count": 50,
     "metadata": {},
     "output_type": "execute_result"
    }
   ],
   "source": [
    "sentences"
   ]
  },
  {
   "cell_type": "markdown",
   "metadata": {},
   "source": [
    "### BERT"
   ]
  },
  {
   "cell_type": "code",
   "execution_count": 26,
   "metadata": {},
   "outputs": [],
   "source": [
    "from transformers import *\n",
    "\n",
    "pretrained_weights = 'bert-base-uncased'\n",
    "tokenizer = BertTokenizer.from_pretrained(pretrained_weights)\n",
    "BERT = BertModel.from_pretrained(pretrained_weights)"
   ]
  },
  {
   "cell_type": "code",
   "execution_count": 37,
   "metadata": {},
   "outputs": [],
   "source": [
    "def embed_text(text):\n",
    "    input_ids = torch.tensor([tokenizer.encode(text, add_special_tokens=True)])\n",
    "    with torch.no_grad():\n",
    "        last_hidden_states = BERT(input_ids)[0]  \n",
    "        return last_hidden_states.detach().numpy()"
   ]
  },
  {
   "cell_type": "code",
   "execution_count": 39,
   "metadata": {},
   "outputs": [
    {
     "data": {
      "text/plain": [
       "(1, 4, 768)"
      ]
     },
     "execution_count": 39,
     "metadata": {},
     "output_type": "execute_result"
    }
   ],
   "source": [
    "embed_text(\"hello world\").shape"
   ]
  },
  {
   "cell_type": "code",
   "execution_count": 36,
   "metadata": {},
   "outputs": [
    {
     "data": {
      "text/plain": [
       "\"Coronavirus\\nSkip to main content\\nCookies on the NHS England and NHS Improvement website\\nWe’ve put some small files called cookies on your device to make our site work.\\nWe’d also like to use analytics cookies. These send information about how our site is used to a service called Google Analytics. We use this information to improve our site.\\nLet us know if this is OK. We’ll use a cookie to save your choice. You can\\xa0read more about our cookies before you choose.\\nChange my preferences\\nI'm OK with analytics cookies\\nNHS England and NHS Improvement coronavirus\\nSearch\\nSearch\\nMenu\\nOur advice for clinicians on the coronavirus is here. If you are a member of the public looking for health advice, go to the NHS website. And if you are looking for the latest travel information, and advice about the government response to the outbreak, go to the gov.uk website.\\nLast updated on: 20 March, 2020 10:55 am\\nCoronavirus guidance for clinicians\\nPrimary care\\nSecondary care\\nCommunity health, social care and ambulance services\\nAre you a clinician considering a return to the NHS? Find out more\\nSite last updated on: 20 March, 2020, 5:47pm\\nKey documents\\nGuidance on supply and use of Personal Protective Equipment (PPE)–\\n20 March 2020\\nCancer alliance information on managing cancer referrals–\\n19 March 2020\\nCovid-19 and professional standards activities (including appraisal and revalidation) – 19 March 2020\\nLetter to HR colleagues – 19 March 2020\\nCOVID-19 prioritisation within community health services with annex – 20 March 2020\\nSupporting allied health professionals and allied health professional support workers during the COVID-19 epidemic in the UK – 19 March 2020\\nCOVID-19 hospital discharge service requirements – 19 March 2020\\nNext steps on general practice response to COVID-19 – 19 March 2020\\nNext steps on NHS response to COVID-19, letter issued by Sir Simon Stevens and Amanda Pritchard – 17 March 2020.\\nVisitor guidance This applies to all inpatient, diagnostic and outpatient areas – 16 March 2020\\nThis is the latest self-isolation guidance It applies to everyone, including NHS staff – 12 March 2020\\nThis website is developing. If you are an NHS clinician and you find an error\\xa0please provide details.\\nTerms and conditions\\nPrivacy and cookies\\nSocial media and comment moderation\\nAccessibility\\nOpen Government Licence v3.0\\nFollow us on Twitter\\nVisit us on LinkedIn\\nWatch videos on YouTube\\nView photos on Flickr\""
      ]
     },
     "execution_count": 36,
     "metadata": {},
     "output_type": "execute_result"
    }
   ],
   "source": [
    "embeds = []"
   ]
  },
  {
   "cell_type": "code",
   "execution_count": null,
   "metadata": {},
   "outputs": [],
   "source": []
  }
 ],
 "metadata": {
  "kernelspec": {
   "display_name": "Python 3",
   "language": "python",
   "name": "python3"
  },
  "language_info": {
   "codemirror_mode": {
    "name": "ipython",
    "version": 3
   },
   "file_extension": ".py",
   "mimetype": "text/x-python",
   "name": "python",
   "nbconvert_exporter": "python",
   "pygments_lexer": "ipython3",
   "version": "3.7.3"
  }
 },
 "nbformat": 4,
 "nbformat_minor": 2
}
