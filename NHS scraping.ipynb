{
 "cells": [
  {
   "cell_type": "code",
   "execution_count": 1,
   "metadata": {},
   "outputs": [],
   "source": [
    "from bs4 import BeautifulSoup\n",
    "import requests\n",
    "from collections import OrderedDict\n",
    "from urllib.parse import urljoin, urlparse\n",
    "import datetime\n",
    "from tika import parser\n",
    "import uuid\n",
    "import os\n",
    "from readability import Document\n",
    "import re"
   ]
  },
  {
   "cell_type": "code",
   "execution_count": 2,
   "metadata": {},
   "outputs": [],
   "source": [
    "start_url = \"https://www.england.nhs.uk/coronavirus/\"\n",
    "\n",
    "whitelist = [\".gov.uk\", \".nhs.uk\"]\n",
    "# only fetch URLs from these domains\n",
    "\n",
    "depth = 2"
   ]
  },
  {
   "cell_type": "code",
   "execution_count": 3,
   "metadata": {},
   "outputs": [],
   "source": [
    "encountered = set()"
   ]
  },
  {
   "cell_type": "code",
   "execution_count": 4,
   "metadata": {},
   "outputs": [],
   "source": [
    "def sstrip(raw):\n",
    "    st = re.sub(\"\\s\\s+\", \"\\n\", raw)\n",
    "    return st.strip()\n",
    "    "
   ]
  },
  {
   "cell_type": "code",
   "execution_count": 7,
   "metadata": {},
   "outputs": [],
   "source": [
    "def get_file(url, out_path):\n",
    "    r = requests.get(url, stream=True) \n",
    "    with open(out_path, \"wb\") as f: \n",
    "        for chunk in r.iter_content(chunk_size=1024): \n",
    "             if chunk: \n",
    "                 f.write(chunk)"
   ]
  },
  {
   "cell_type": "code",
   "execution_count": 5,
   "metadata": {},
   "outputs": [],
   "source": [
    "def get_pdf(pdf_url, out_path):\n",
    "    r = requests.get(pdf_url, stream = True) \n",
    "    with open(out_path,\"wb\") as pdf: \n",
    "        for chunk in r.iter_content(chunk_size=1024): \n",
    "             if chunk: \n",
    "                 pdf.write(chunk)\n"
   ]
  },
  {
   "cell_type": "code",
   "execution_count": 6,
   "metadata": {},
   "outputs": [
    {
     "name": "stdout",
     "output_type": "stream",
     "text": [
      "https://www.england.nhs.uk/coronavirus/\n"
     ]
    },
    {
     "name": "stderr",
     "output_type": "stream",
     "text": [
      "/Users/iain/anaconda3/lib/python3.7/site-packages/readability/htmls.py:117: FutureWarning: The behavior of this method will change in future versions. Use specific 'len(elem)' or 'elem is not None' test instead.\n",
      "  raw_html = str_(tostring(doc.body or doc))\n"
     ]
    },
    {
     "name": "stdout",
     "output_type": "stream",
     "text": [
      "https://www.nhs.uk/\n",
      "https://www.england.nhs.uk/coronavirus/returning-clinicians/\n",
      "https://www.nhs.uk/apps-library/hoop/\n",
      "https://www.england.nhs.uk/coronavirus/publication/visitor-guidance/\n",
      "https://www.nhs.uk/live-well/\n",
      "https://www.nhs.uk/apps-library/my-house-memories/\n",
      "https://www.nhs.uk/conditions/cancer/\n",
      "https://www.england.nhs.uk/coronavirus/publication/letter-cancer-alliance-information-on-managing-cancer-referrals/\n",
      "https://www.nhs.uk/oneyou/every-mind-matters/your-mind-plan-quiz/\n"
     ]
    },
    {
     "ename": "TypeError",
     "evalue": "expected string or bytes-like object",
     "output_type": "error",
     "traceback": [
      "\u001b[0;31m---------------------------------------------------------------------------\u001b[0m",
      "\u001b[0;31mTypeError\u001b[0m                                 Traceback (most recent call last)",
      "\u001b[0;32m<ipython-input-6-31c3687e62b9>\u001b[0m in \u001b[0;36m<module>\u001b[0;34m\u001b[0m\n\u001b[1;32m     72\u001b[0m                                     \u001b[0;34m(\u001b[0m\u001b[0;34m\"title\"\u001b[0m\u001b[0;34m,\u001b[0m \u001b[0msstrip\u001b[0m\u001b[0;34m(\u001b[0m\u001b[0mparsed\u001b[0m\u001b[0;34m.\u001b[0m\u001b[0mget\u001b[0m\u001b[0;34m(\u001b[0m\u001b[0;34m'title'\u001b[0m\u001b[0;34m,\u001b[0m \u001b[0;34m''\u001b[0m\u001b[0;34m)\u001b[0m\u001b[0;34m)\u001b[0m\u001b[0;34m)\u001b[0m\u001b[0;34m,\u001b[0m\u001b[0;34m\u001b[0m\u001b[0;34m\u001b[0m\u001b[0m\n\u001b[1;32m     73\u001b[0m                                     \u001b[0;34m(\u001b[0m\u001b[0;34m\"format\"\u001b[0m\u001b[0;34m,\u001b[0m \u001b[0;34m\"html\"\u001b[0m\u001b[0;34m)\u001b[0m\u001b[0;34m,\u001b[0m\u001b[0;34m\u001b[0m\u001b[0;34m\u001b[0m\u001b[0m\n\u001b[0;32m---> 74\u001b[0;31m                                     (\"text\", sstrip(parsed['content']))]))\n\u001b[0m",
      "\u001b[0;32m<ipython-input-4-bd81c53cc29a>\u001b[0m in \u001b[0;36msstrip\u001b[0;34m(raw)\u001b[0m\n\u001b[1;32m      1\u001b[0m \u001b[0;32mdef\u001b[0m \u001b[0msstrip\u001b[0m\u001b[0;34m(\u001b[0m\u001b[0mraw\u001b[0m\u001b[0;34m)\u001b[0m\u001b[0;34m:\u001b[0m\u001b[0;34m\u001b[0m\u001b[0;34m\u001b[0m\u001b[0m\n\u001b[0;32m----> 2\u001b[0;31m     \u001b[0mst\u001b[0m \u001b[0;34m=\u001b[0m \u001b[0mre\u001b[0m\u001b[0;34m.\u001b[0m\u001b[0msub\u001b[0m\u001b[0;34m(\u001b[0m\u001b[0;34m\"\\s\\s+\"\u001b[0m\u001b[0;34m,\u001b[0m \u001b[0;34m\"\\n\"\u001b[0m\u001b[0;34m,\u001b[0m \u001b[0mraw\u001b[0m\u001b[0;34m)\u001b[0m\u001b[0;34m\u001b[0m\u001b[0;34m\u001b[0m\u001b[0m\n\u001b[0m\u001b[1;32m      3\u001b[0m     \u001b[0;32mreturn\u001b[0m \u001b[0mst\u001b[0m\u001b[0;34m.\u001b[0m\u001b[0mstrip\u001b[0m\u001b[0;34m(\u001b[0m\u001b[0;34m)\u001b[0m\u001b[0;34m\u001b[0m\u001b[0;34m\u001b[0m\u001b[0m\n\u001b[1;32m      4\u001b[0m \u001b[0;34m\u001b[0m\u001b[0m\n",
      "\u001b[0;32m~/anaconda3/lib/python3.7/re.py\u001b[0m in \u001b[0;36msub\u001b[0;34m(pattern, repl, string, count, flags)\u001b[0m\n\u001b[1;32m    190\u001b[0m     \u001b[0ma\u001b[0m \u001b[0mcallable\u001b[0m\u001b[0;34m,\u001b[0m \u001b[0mit\u001b[0m\u001b[0;31m'\u001b[0m\u001b[0ms\u001b[0m \u001b[0mpassed\u001b[0m \u001b[0mthe\u001b[0m \u001b[0mMatch\u001b[0m \u001b[0mobject\u001b[0m \u001b[0;32mand\u001b[0m \u001b[0mmust\u001b[0m \u001b[0;32mreturn\u001b[0m\u001b[0;34m\u001b[0m\u001b[0;34m\u001b[0m\u001b[0m\n\u001b[1;32m    191\u001b[0m     a replacement string to be used.\"\"\"\n\u001b[0;32m--> 192\u001b[0;31m     \u001b[0;32mreturn\u001b[0m \u001b[0m_compile\u001b[0m\u001b[0;34m(\u001b[0m\u001b[0mpattern\u001b[0m\u001b[0;34m,\u001b[0m \u001b[0mflags\u001b[0m\u001b[0;34m)\u001b[0m\u001b[0;34m.\u001b[0m\u001b[0msub\u001b[0m\u001b[0;34m(\u001b[0m\u001b[0mrepl\u001b[0m\u001b[0;34m,\u001b[0m \u001b[0mstring\u001b[0m\u001b[0;34m,\u001b[0m \u001b[0mcount\u001b[0m\u001b[0;34m)\u001b[0m\u001b[0;34m\u001b[0m\u001b[0;34m\u001b[0m\u001b[0m\n\u001b[0m\u001b[1;32m    193\u001b[0m \u001b[0;34m\u001b[0m\u001b[0m\n\u001b[1;32m    194\u001b[0m \u001b[0;32mdef\u001b[0m \u001b[0msubn\u001b[0m\u001b[0;34m(\u001b[0m\u001b[0mpattern\u001b[0m\u001b[0;34m,\u001b[0m \u001b[0mrepl\u001b[0m\u001b[0;34m,\u001b[0m \u001b[0mstring\u001b[0m\u001b[0;34m,\u001b[0m \u001b[0mcount\u001b[0m\u001b[0;34m=\u001b[0m\u001b[0;36m0\u001b[0m\u001b[0;34m,\u001b[0m \u001b[0mflags\u001b[0m\u001b[0;34m=\u001b[0m\u001b[0;36m0\u001b[0m\u001b[0;34m)\u001b[0m\u001b[0;34m:\u001b[0m\u001b[0;34m\u001b[0m\u001b[0;34m\u001b[0m\u001b[0m\n",
      "\u001b[0;31mTypeError\u001b[0m: expected string or bytes-like object"
     ]
    }
   ],
   "source": [
    "dataset = []\n",
    "\n",
    "stack = set([(start_url, \"NHS Coronavirus Startpage\", 0)])\n",
    "\n",
    "while stack:\n",
    "    \n",
    "    \n",
    "    url, link_title, level = stack.pop()\n",
    "    \n",
    "    print(url)\n",
    "\n",
    "    if url.endswith('.pptx'):        \n",
    "        continue\n",
    "\n",
    "\n",
    "    if url.endswith('.pdf'):\n",
    "        \n",
    "        filename = f\"{uuid.uuid4()}.pdf\"\n",
    "        get_pdf(url, os.path.join('answers', filename))\n",
    "        \n",
    "        parsed = parser.from_file(os.path.join('answers', filename))\n",
    "\n",
    "        dataset.append(OrderedDict([(\"date\", datetime.datetime.now().strftime(\"%Y-%m-%d\")),\n",
    "                                    (\"url\", url),\n",
    "                                    (\"title\", link_title),\n",
    "                                    (\"format\", \"pdf\"),\n",
    "                                    (\"text\", parsed['content'])]))\n",
    "    else:\n",
    "        try:\n",
    "            raw_html = requests.get(url).text\n",
    "        except (requests.exceptions.InvalidSchema, requests.exceptions.MissingSchema):\n",
    "            print(\"unable to obtain url {url}\")\n",
    "\n",
    "        readable_html = Document(raw_html).content()\n",
    "        soup = BeautifulSoup(readable_html, 'lxml')\n",
    "        links = soup.find_all('a')\n",
    "\n",
    "        # first parse out links\n",
    "\n",
    "        for link in links:\n",
    "\n",
    "            href = link.get('href')            \n",
    "            href = urljoin(url, href) # calculate relative references\n",
    "\n",
    "            domain = urlparse(href).netloc\n",
    "            if not any((domain.endswith(urlend) for urlend in whitelist)):\n",
    "                continue\n",
    "\n",
    "\n",
    "            if href is None:\n",
    "                continue\n",
    "            elif href in encountered:\n",
    "                continue\n",
    "\n",
    "            encountered.add(href)\n",
    "\n",
    "\n",
    "\n",
    "            if href.startswith(\"#\"):\n",
    "                continue\n",
    "            else:            \n",
    "                if level < depth:\n",
    "                    stack.add((href, link.get('text'), level+1))\n",
    "\n",
    "        # save the text\n",
    "\n",
    "        parsed = parser.from_buffer(raw_html)\n",
    "            \n",
    "        \n",
    "        dataset.append(OrderedDict([(\"date\", datetime.datetime.now().strftime(\"%Y-%m-%d\")),\n",
    "                                    (\"url\", url),\n",
    "                                    (\"title\", sstrip(parsed.get('title', ''))),\n",
    "                                    (\"format\", \"html\"),\n",
    "                                    (\"text\", sstrip(parsed['content']))]))\n"
   ]
  },
  {
   "cell_type": "code",
   "execution_count": null,
   "metadata": {},
   "outputs": [],
   "source": [
    "import pandas as pd"
   ]
  },
  {
   "cell_type": "code",
   "execution_count": null,
   "metadata": {},
   "outputs": [],
   "source": [
    "df = pd.DataFrame(dataset)"
   ]
  },
  {
   "cell_type": "code",
   "execution_count": null,
   "metadata": {},
   "outputs": [],
   "source": [
    "df"
   ]
  },
  {
   "cell_type": "code",
   "execution_count": null,
   "metadata": {},
   "outputs": [],
   "source": [
    "import tika\n"
   ]
  },
  {
   "cell_type": "code",
   "execution_count": 147,
   "metadata": {},
   "outputs": [],
   "source": [
    "parsed = parser.from_buffer(raw_html)"
   ]
  },
  {
   "cell_type": "code",
   "execution_count": 151,
   "metadata": {},
   "outputs": [
    {
     "data": {
      "text/plain": [
       "\"\\nRegister your details - NHS Organ Donation\\nNHSBT uses cookies which are essential for the site to work.\\nWe also use non-essential cookies to help us improve our services, any data collected is anonymised.\\nBy continuing to use this website you agree to our use of cookies. Read more about our cookies\\nOK\\nHi there, we see you're using OS, why not try our app?\\nDownload\\nAuxiliary nav\\nWho we are\\nWhat we do\\nHow we help\\nHow you can help\\nCareers\\nNews\\nMenu\\nRegister\\nSearch\\nSearch\\nSkip to main content\\nHome\\nRegister your decision\\ntoggle next navigation level\\nRegister your decision\\nRegister to donate\\nAmend your details\\nRefuse to donate\\nWithdraw your details\\nHelping you to decide\\ntoggle next navigation level\\nHelping you to decide\\nAbout organ donation\\nWhat can you donate?\\nWho can donate?\\nGet the facts\\nLiving donation\\nTissue donation\\nStatistics\\nFAQ\\nAbout your choices\\nUK laws\\nYour faith and beliefs\\nWhy ethnicity matters\\nReal life stories\\nTell your family and friends\\ntoggle next navigation level\\nTell your family and friends\\nWhy share your decision?\\nHow to discuss your decision\\nThe Organ Donor Card\\nUK laws\\ntoggle next navigation level\\nUK laws\\nEngland\\nWales\\nScotland\\nN. Ireland\\nCrown dependencies\\nBecome a living donor\\nGet involved\\ntoggle next navigation level\\nGet involved\\nNews\\nCampaigns\\nShare your experience\\nYou are here:\\nHome\\nRegister your decision\\nRegister to donate\\nRegister your details – Yes I Donate\\nJoin the NHS Organ Donor Register and one day you may be able to donate your organs and tissue after death.\\nFields marked * are mandatory.\\nCymraeg\\nAbout you\\nTitle\\nTitle\\nMs\\nMx\\nMaster\\nFather\\nDame\\nMr\\nMrs\\nMiss\\nDoctor\\nCouncillor\\nCaptain\\nColonel\\nExecutors of\\nLady\\nLord\\nProfessor\\nReverend\\nSir\\nFirst name *\\nLast name *\\nMiddle name\\nPreferred name\\nDate of birth *\\nDay\\n1\\n2\\n3\\n4\\n5\\n6\\n7\\n8\\n9\\n10\\n11\\n12\\n13\\n14\\n15\\n16\\n17\\n18\\n19\\n20\\n21\\n22\\n23\\n24\\n25\\n26\\n27\\n28\\n29\\n30\\n31\\nMonth\\nJanuary\\nFebruary\\nMarch\\nApril\\nMay\\nJune\\nJuly\\nAugust\\nSeptember\\nOctober\\nNovember\\nDecember\\nYear\\n1915\\n1916\\n1917\\n1918\\n1919\\n1920\\n1921\\n1922\\n1923\\n1924\\n1925\\n1926\\n1927\\n1928\\n1929\\n1930\\n1931\\n1932\\n1933\\n1934\\n1935\\n1936\\n1937\\n1938\\n1939\\n1940\\n1941\\n1942\\n1943\\n1944\\n1945\\n1946\\n1947\\n1948\\n1949\\n1950\\n1951\\n1952\\n1953\\n1954\\n1955\\n1956\\n1957\\n1958\\n1959\\n1960\\n1961\\n1962\\n1963\\n1964\\n1965\\n1966\\n1967\\n1968\\n1969\\n1970\\n1971\\n1972\\n1973\\n1974\\n1975\\n1976\\n1977\\n1978\\n1979\\n1980\\n1981\\n1982\\n1983\\n1984\\n1985\\n1986\\n1987\\n1988\\n1989\\n1990\\n1991\\n1992\\n1993\\n1994\\n1995\\n1996\\n1997\\n1998\\n1999\\n2000\\n2001\\n2002\\n2003\\n2004\\n2005\\n2006\\n2007\\n2008\\n2009\\n2010\\n2011\\n2012\\n2013\\n2014\\n2015\\n2016\\n2017\\n2018\\n2019\\n2020\\nGender *\\nMale\\nFemale\\nOther\\nPrefer not to say\\nTransgender\\nYour address\\nEnter your postcode and select your address, we will do the rest\\nPostcode search *\\nFind address\\nEnter address manually\\nAddress line 1 *\\nAddress line 2\\nTown\\nCounty\\nCountry\\nYour contact details\\nWe will only use these details to contact you about your registration\\nEmail\\nTelephone\\nMobile\\nPreferred form of contact\\nPlease select\\nPost\\nEmail\\nTelephone\\nMobile\\nYour choice\\nYou can select to donate some, or all of your organs and tissue\\nDo you want to donate all your organs and tissue? *\\nAll\\nSome\\nPlease select a minimum of one organ or tissue\\nBy selecting ‘all’ you may be able to help up to nine people through organ donation, and even more through tissue donation. Thank you.\\nHeart\\nBlood being pumped around your body by your heart carries oxygen and nutrients. Without the heart, your body wouldn’t get oxygen. Your heart can be transplanted whole or in some cases the valves (pulmonary and aortic) can be transplanted.\\nLungs\\nYour lungs supply oxygen to your blood and clear carbon dioxide from your body. Without healthy lungs you couldn’t breathe properly.\\nKidneys\\nYour kidneys filter wastes from your blood and convert them to urine. When your kidneys stop working you can develop kidney failure. Harmful wastes and fluids build up in your body and your blood pressure may rise. You can live healthily with one kidney.\\nLiver\\nYour liver produces bile to clean out your body. If your liver isn’t working right, you will begin to feel tired, experience nausea, vomiting, decreased appetite, brown urine, or even jaundice - yellowing in the whites of your eyes. Your liver can be transplanted whole or in some cases the cells (hepatocytes) can be transplanted.\\nCorneas\\nThe cornea lets light into your eyes, without them you wouldn’t be able to see. The gift of sight is precious. Every day 100 people in the UK start to lose their sight. Almost 2 million people in the UK are living with significant sight loss. Your donation can help someone regain their sight.\\nPancreas\\nYour pancreas is in your abdomen. It produces insulin to control your blood sugar levels. If your pancreas is not working correctly your blood sugar level rises, which can lead to\\ndiabetes. Your pancreas can be transplanted whole or in some cases the cells (islet cells) can be transplanted.\\nTissue\\nTissue is a group of cells that carry out a particular job in your body. Tissue donations such as skin, bone and tendons save hundreds of lives every year. One tissue donor can enhance the lives of more than 50 people.\\nSmall bowel\\nThe small bowel (also small intestine) absorbs nutrients and minerals from food we eat. If your small intestine fails, you wouldn’t be able to digest food. You would need to get nutrition from an alternative method, such as through a drip into your vein.\\nFaith/beliefs\\nRecord whether you want our specialist nurses to discuss your faith or beliefs with your family when they approach them about organ donation.\\nI would like NHS staff to speak to my family and anyone else appropriate about how organ donation can go ahead in line with my faith or beliefs.\\nYes - this is applicable to me\\nNo - this is not applicable to me\\nPrefer not to say\\nAdditional information\\nThis optional information is only used by NHSBT for analysis of the NHS Organ Donor Register and is not stored against your registration\\nEthnicity\\nPlease select\\nAsian or Asian British - Indian\\nAsian or Asian British - Pakistani\\nAsian or Asian British - Bangladeshi\\nAsian or Asian British - Other\\nGypsy or Irish Traveller\\nArab\\nBlack or Black British - Caribbean\\nBlack or Black British - African\\nBlack or Black British - Other\\nOther - Chinese\\nOther\\nNot Stated\\nNot Reported\\nWhite - British\\nWhite - Irish\\nWhite - Other\\nMixed - White and Black Caribbean\\nMixed - White and Black African\\nMixed - White and Asian\\nMixed - Other\\nReligion\\nPlease select\\nNo religion\\nChristian - Protestant\\nChristian - Catholic\\nChristian - Other\\nBuddhist\\nHindu\\nJewish\\nMuslim\\nSikh\\nOther\\nNot stated\\nConfirmation\\nI have read the privacy statement and give consent for the use of my information in accordance with the terms\\nRydw i wedi darllen y datganiad preifatrwydd ac rydw i’n cydsynio i’m gwybodaeth gael ei defnyddio yn unol â’r telerau\\nGive Feedback\\nOverall how did you feel about our website experience?\\n*\\nVery satisfied\\nSatisfied\\nNeither satisfied or dissatisfied\\nDissatisfied\\nVery dissatisfied\\nHow can we improve this website?\\nDo not include any personal or financial information\\nBrowser\\nPage\\nPrevious page\\nBack to top\\nPrivacy\\nSite map\\nFreedom of information and privacy\\nCookies\\nEquality and Diversity\\nContact us\\nCareers\\nYou can call us on: 0300 123 23 23\\nBlood Donation\\nPlatelet Donation\\nBritish Bone Marrow Registry\\nTissue Donation\\nCord blood bank\\n\""
      ]
     },
     "execution_count": 151,
     "metadata": {},
     "output_type": "execute_result"
    }
   ],
   "source": []
  },
  {
   "cell_type": "code",
   "execution_count": 146,
   "metadata": {},
   "outputs": [
    {
     "data": {
      "text/html": [
       "<div>\n",
       "<style scoped>\n",
       "    .dataframe tbody tr th:only-of-type {\n",
       "        vertical-align: middle;\n",
       "    }\n",
       "\n",
       "    .dataframe tbody tr th {\n",
       "        vertical-align: top;\n",
       "    }\n",
       "\n",
       "    .dataframe thead th {\n",
       "        text-align: right;\n",
       "    }\n",
       "</style>\n",
       "<table border=\"1\" class=\"dataframe\">\n",
       "  <thead>\n",
       "    <tr style=\"text-align: right;\">\n",
       "      <th></th>\n",
       "      <th>date</th>\n",
       "      <th>url</th>\n",
       "      <th>title</th>\n",
       "      <th>format</th>\n",
       "      <th>text</th>\n",
       "    </tr>\n",
       "  </thead>\n",
       "  <tbody>\n",
       "    <tr>\n",
       "      <td>0</td>\n",
       "      <td>2020-03-20</td>\n",
       "      <td>https://www.england.nhs.uk/coronavirus/</td>\n",
       "      <td></td>\n",
       "      <td>html</td>\n",
       "      <td>[b', \\n    , \\n        , Skip to main content,...</td>\n",
       "    </tr>\n",
       "    <tr>\n",
       "      <td>1</td>\n",
       "      <td>2020-03-20</td>\n",
       "      <td>https://www.nhs.uk/conditions/coronavirus-covi...</td>\n",
       "      <td></td>\n",
       "      <td>html</td>\n",
       "      <td>[b', \\n    \\n\\n    \\n      , Skip to main cont...</td>\n",
       "    </tr>\n",
       "    <tr>\n",
       "      <td>2</td>\n",
       "      <td>2020-03-20</td>\n",
       "      <td>https://www.england.nhs.uk/coronavirus/primary...</td>\n",
       "      <td></td>\n",
       "      <td>html</td>\n",
       "      <td>[b', \\n    , \\n        , Skip to main content,...</td>\n",
       "    </tr>\n",
       "    <tr>\n",
       "      <td>3</td>\n",
       "      <td>2020-03-20</td>\n",
       "      <td>https://www.nhs.uk/using-the-nhs/nhs-services/...</td>\n",
       "      <td></td>\n",
       "      <td>html</td>\n",
       "      <td>[b', \\n    \\n\\n    \\n      , Skip to main cont...</td>\n",
       "    </tr>\n",
       "    <tr>\n",
       "      <td>4</td>\n",
       "      <td>2020-03-20</td>\n",
       "      <td>https://www.england.nhs.uk/coronavirus/primary...</td>\n",
       "      <td></td>\n",
       "      <td>html</td>\n",
       "      <td>[b', \\n    , \\n        , Skip to main content,...</td>\n",
       "    </tr>\n",
       "    <tr>\n",
       "      <td>...</td>\n",
       "      <td>...</td>\n",
       "      <td>...</td>\n",
       "      <td>...</td>\n",
       "      <td>...</td>\n",
       "      <td>...</td>\n",
       "    </tr>\n",
       "    <tr>\n",
       "      <td>226</td>\n",
       "      <td>2020-03-20</td>\n",
       "      <td>https://www.gov.uk/guidance/wuhan-novel-corona...</td>\n",
       "      <td></td>\n",
       "      <td>html</td>\n",
       "      <td>[b', \\n    \\n\\n    \\n\\n    , \\n      , \\n     ...</td>\n",
       "    </tr>\n",
       "    <tr>\n",
       "      <td>227</td>\n",
       "      <td>2020-03-20</td>\n",
       "      <td>https://www.gov.uk/government/news/health-secr...</td>\n",
       "      <td></td>\n",
       "      <td>html</td>\n",
       "      <td>[b', \\n    \\n\\n    \\n\\n    , \\n      , \\n     ...</td>\n",
       "    </tr>\n",
       "    <tr>\n",
       "      <td>228</td>\n",
       "      <td>2020-03-20</td>\n",
       "      <td>https://www.nhs.uk/NHSEngland/Healthcareabroad...</td>\n",
       "      <td></td>\n",
       "      <td>html</td>\n",
       "      <td>[b', \\n    \\n\\n    \\n      , Skip to main cont...</td>\n",
       "    </tr>\n",
       "    <tr>\n",
       "      <td>229</td>\n",
       "      <td>2020-03-20</td>\n",
       "      <td>https://www.england.nhs.uk/accessibility/#main...</td>\n",
       "      <td></td>\n",
       "      <td>html</td>\n",
       "      <td>[b', \\n    , \\n        , Skip to main content,...</td>\n",
       "    </tr>\n",
       "    <tr>\n",
       "      <td>230</td>\n",
       "      <td>2020-03-20</td>\n",
       "      <td>https://www.organdonation.nhs.uk/register-to-d...</td>\n",
       "      <td></td>\n",
       "      <td>html</td>\n",
       "      <td>[b', \\r\\n\\r\\n    \\r\\n\\r\\n    \\r\\n    , \\r\\n   ...</td>\n",
       "    </tr>\n",
       "  </tbody>\n",
       "</table>\n",
       "<p>231 rows × 5 columns</p>\n",
       "</div>"
      ],
      "text/plain": [
       "           date                                                url title  \\\n",
       "0    2020-03-20            https://www.england.nhs.uk/coronavirus/         \n",
       "1    2020-03-20  https://www.nhs.uk/conditions/coronavirus-covi...         \n",
       "2    2020-03-20  https://www.england.nhs.uk/coronavirus/primary...         \n",
       "3    2020-03-20  https://www.nhs.uk/using-the-nhs/nhs-services/...         \n",
       "4    2020-03-20  https://www.england.nhs.uk/coronavirus/primary...         \n",
       "..          ...                                                ...   ...   \n",
       "226  2020-03-20  https://www.gov.uk/guidance/wuhan-novel-corona...         \n",
       "227  2020-03-20  https://www.gov.uk/government/news/health-secr...         \n",
       "228  2020-03-20  https://www.nhs.uk/NHSEngland/Healthcareabroad...         \n",
       "229  2020-03-20  https://www.england.nhs.uk/accessibility/#main...         \n",
       "230  2020-03-20  https://www.organdonation.nhs.uk/register-to-d...         \n",
       "\n",
       "    format                                               text  \n",
       "0     html  [b', \\n    , \\n        , Skip to main content,...  \n",
       "1     html  [b', \\n    \\n\\n    \\n      , Skip to main cont...  \n",
       "2     html  [b', \\n    , \\n        , Skip to main content,...  \n",
       "3     html  [b', \\n    \\n\\n    \\n      , Skip to main cont...  \n",
       "4     html  [b', \\n    , \\n        , Skip to main content,...  \n",
       "..     ...                                                ...  \n",
       "226   html  [b', \\n    \\n\\n    \\n\\n    , \\n      , \\n     ...  \n",
       "227   html  [b', \\n    \\n\\n    \\n\\n    , \\n      , \\n     ...  \n",
       "228   html  [b', \\n    \\n\\n    \\n      , Skip to main cont...  \n",
       "229   html  [b', \\n    , \\n        , Skip to main content,...  \n",
       "230   html  [b', \\r\\n\\r\\n    \\r\\n\\r\\n    \\r\\n    , \\r\\n   ...  \n",
       "\n",
       "[231 rows x 5 columns]"
      ]
     },
     "execution_count": 146,
     "metadata": {},
     "output_type": "execute_result"
    }
   ],
   "source": [
    "df"
   ]
  },
  {
   "cell_type": "code",
   "execution_count": null,
   "metadata": {},
   "outputs": [],
   "source": []
  }
 ],
 "metadata": {
  "kernelspec": {
   "display_name": "Python 3",
   "language": "python",
   "name": "python3"
  },
  "language_info": {
   "codemirror_mode": {
    "name": "ipython",
    "version": 3
   },
   "file_extension": ".py",
   "mimetype": "text/x-python",
   "name": "python",
   "nbconvert_exporter": "python",
   "pygments_lexer": "ipython3",
   "version": "3.7.4"
  }
 },
 "nbformat": 4,
 "nbformat_minor": 2
}
