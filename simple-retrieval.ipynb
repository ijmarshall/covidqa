{
 "cells": [
  {
   "cell_type": "code",
   "execution_count": 1,
   "metadata": {},
   "outputs": [],
   "source": [
    "import torch\n",
    "import numpy as np\n",
    "import pandas as pd"
   ]
  },
  {
   "cell_type": "code",
   "execution_count": 2,
   "metadata": {},
   "outputs": [],
   "source": [
    "df = pd.read_csv(\"data/nhs_corona.csv\")"
   ]
  },
  {
   "cell_type": "code",
   "execution_count": 3,
   "metadata": {},
   "outputs": [
    {
     "data": {
      "text/html": [
       "<div>\n",
       "<style scoped>\n",
       "    .dataframe tbody tr th:only-of-type {\n",
       "        vertical-align: middle;\n",
       "    }\n",
       "\n",
       "    .dataframe tbody tr th {\n",
       "        vertical-align: top;\n",
       "    }\n",
       "\n",
       "    .dataframe thead th {\n",
       "        text-align: right;\n",
       "    }\n",
       "</style>\n",
       "<table border=\"1\" class=\"dataframe\">\n",
       "  <thead>\n",
       "    <tr style=\"text-align: right;\">\n",
       "      <th></th>\n",
       "      <th>Unnamed: 0</th>\n",
       "      <th>date</th>\n",
       "      <th>url</th>\n",
       "      <th>title</th>\n",
       "      <th>format</th>\n",
       "      <th>text</th>\n",
       "    </tr>\n",
       "  </thead>\n",
       "  <tbody>\n",
       "    <tr>\n",
       "      <th>0</th>\n",
       "      <td>0</td>\n",
       "      <td>2020-03-20</td>\n",
       "      <td>https://www.england.nhs.uk/coronavirus/</td>\n",
       "      <td>NaN</td>\n",
       "      <td>text/html; charset=UTF-8</td>\n",
       "      <td>Coronavirus\\nSkip to main content\\nCookies on ...</td>\n",
       "    </tr>\n",
       "    <tr>\n",
       "      <th>1</th>\n",
       "      <td>1</td>\n",
       "      <td>2020-03-20</td>\n",
       "      <td>https://www.england.nhs.uk/accessibility/</td>\n",
       "      <td>NaN</td>\n",
       "      <td>text/html; charset=UTF-8</td>\n",
       "      <td>NHS England » About accessibility\\nSkip to mai...</td>\n",
       "    </tr>\n",
       "    <tr>\n",
       "      <th>2</th>\n",
       "      <td>2</td>\n",
       "      <td>2020-03-20</td>\n",
       "      <td>https://www.england.nhs.uk/coronavirus/publica...</td>\n",
       "      <td>NaN</td>\n",
       "      <td>text/html; charset=UTF-8</td>\n",
       "      <td>Coronavirus » Letter: Covid-19 and professiona...</td>\n",
       "    </tr>\n",
       "    <tr>\n",
       "      <th>3</th>\n",
       "      <td>3</td>\n",
       "      <td>2020-03-20</td>\n",
       "      <td>https://www.gov.uk/government/publications/cov...</td>\n",
       "      <td>NaN</td>\n",
       "      <td>text/html; charset=UTF-8</td>\n",
       "      <td>COVID-19: guidance for households with possibl...</td>\n",
       "    </tr>\n",
       "    <tr>\n",
       "      <th>4</th>\n",
       "      <td>4</td>\n",
       "      <td>2020-03-20</td>\n",
       "      <td>https://www.gov.uk/government/organisations</td>\n",
       "      <td>NaN</td>\n",
       "      <td>text/html; charset=UTF-8</td>\n",
       "      <td>Departments, agencies and public bodies - GOV....</td>\n",
       "    </tr>\n",
       "  </tbody>\n",
       "</table>\n",
       "</div>"
      ],
      "text/plain": [
       "   Unnamed: 0        date                                                url  \\\n",
       "0           0  2020-03-20            https://www.england.nhs.uk/coronavirus/   \n",
       "1           1  2020-03-20          https://www.england.nhs.uk/accessibility/   \n",
       "2           2  2020-03-20  https://www.england.nhs.uk/coronavirus/publica...   \n",
       "3           3  2020-03-20  https://www.gov.uk/government/publications/cov...   \n",
       "4           4  2020-03-20        https://www.gov.uk/government/organisations   \n",
       "\n",
       "   title                    format  \\\n",
       "0    NaN  text/html; charset=UTF-8   \n",
       "1    NaN  text/html; charset=UTF-8   \n",
       "2    NaN  text/html; charset=UTF-8   \n",
       "3    NaN  text/html; charset=UTF-8   \n",
       "4    NaN  text/html; charset=UTF-8   \n",
       "\n",
       "                                                text  \n",
       "0  Coronavirus\\nSkip to main content\\nCookies on ...  \n",
       "1  NHS England » About accessibility\\nSkip to mai...  \n",
       "2  Coronavirus » Letter: Covid-19 and professiona...  \n",
       "3  COVID-19: guidance for households with possibl...  \n",
       "4  Departments, agencies and public bodies - GOV....  "
      ]
     },
     "execution_count": 3,
     "metadata": {},
     "output_type": "execute_result"
    }
   ],
   "source": [
    "df.head()"
   ]
  },
  {
   "cell_type": "markdown",
   "metadata": {},
   "source": [
    "### Helper for text"
   ]
  },
  {
   "cell_type": "code",
   "execution_count": 4,
   "metadata": {},
   "outputs": [],
   "source": [
    "from bs4 import BeautifulSoup \n",
    "\n",
    "import spacy\n",
    "nlp = spacy.load(\"en_core_web_sm\")"
   ]
  },
  {
   "cell_type": "code",
   "execution_count": 5,
   "metadata": {},
   "outputs": [],
   "source": [
    "def get_sentences(html):\n",
    "    soup = BeautifulSoup(html) \n",
    "    spacy_text =  nlp(soup.get_text())\n",
    "    return spacy_text.sents\n",
    "\n",
    "sentences = list(get_sentences(df['text'].values[0]))"
   ]
  },
  {
   "cell_type": "code",
   "execution_count": 33,
   "metadata": {},
   "outputs": [
    {
     "data": {
      "text/plain": [
       "'Coronavirus\\nSkip to main content\\nCookies on the NHS England and NHS Improvement website\\n'"
      ]
     },
     "execution_count": 33,
     "metadata": {},
     "output_type": "execute_result"
    }
   ],
   "source": [
    "sentences[0].string"
   ]
  },
  {
   "cell_type": "markdown",
   "metadata": {},
   "source": [
    "### BERT"
   ]
  },
  {
   "cell_type": "code",
   "execution_count": 7,
   "metadata": {},
   "outputs": [],
   "source": [
    "from transformers import *\n",
    "\n",
    "pretrained_weights = 'bert-base-uncased'\n",
    "tokenizer = BertTokenizer.from_pretrained(pretrained_weights)\n",
    "BERT = BertModel.from_pretrained(pretrained_weights)"
   ]
  },
  {
   "cell_type": "code",
   "execution_count": 49,
   "metadata": {},
   "outputs": [],
   "source": [
    "def embed_text(text):\n",
    "    input_ids = torch.tensor([tokenizer.encode(text, add_special_tokens=True)])\n",
    "    with torch.no_grad():\n",
    "        last_hidden_states = BERT(input_ids)[0]  \n",
    "        return np.mean(last_hidden_states.detach().numpy(), axis=1).squeeze()"
   ]
  },
  {
   "cell_type": "code",
   "execution_count": 50,
   "metadata": {},
   "outputs": [
    {
     "data": {
      "text/plain": [
       "(768,)"
      ]
     },
     "execution_count": 50,
     "metadata": {},
     "output_type": "execute_result"
    }
   ],
   "source": [
    "embed_text(\"hello world\").shape"
   ]
  },
  {
   "cell_type": "code",
   "execution_count": 51,
   "metadata": {},
   "outputs": [
    {
     "data": {
      "text/plain": [
       "(768,)"
      ]
     },
     "execution_count": 51,
     "metadata": {},
     "output_type": "execute_result"
    }
   ],
   "source": [
    "embed_text(sentences[0].string).shape"
   ]
  },
  {
   "cell_type": "code",
   "execution_count": 21,
   "metadata": {},
   "outputs": [],
   "source": [
    "from scipy.spatial.distance import cosine"
   ]
  },
  {
   "cell_type": "code",
   "execution_count": 56,
   "metadata": {},
   "outputs": [],
   "source": [
    "def find_best(q, sents):\n",
    "    embeds = [embed_text(s.string) for s in sents]\n",
    "    q_v = embed_text(q)\n",
    "    scores = [cosine(q_v, v) for v in embeds]\n",
    "    return sents[np.argmax(scores)], np.max(scores)"
   ]
  },
  {
   "cell_type": "code",
   "execution_count": 57,
   "metadata": {},
   "outputs": [],
   "source": [
    "best_sent, best_score = find_best(\"hello\", sentences)"
   ]
  },
  {
   "cell_type": "code",
   "execution_count": 74,
   "metadata": {},
   "outputs": [],
   "source": [
    "def find_best_over_docs(q, docs):\n",
    "    best_score, best_sent = -1, None\n",
    "    for d in docs:\n",
    "        #import pdb; pdb.set_trace()\n",
    "        cur_sent, cur_score = find_best(q, d)\n",
    "        if cur_score > best_score:\n",
    "            best_score = cur_score\n",
    "            best_sent = cur_sent\n",
    "    return best_sent "
   ]
  },
  {
   "cell_type": "code",
   "execution_count": 75,
   "metadata": {},
   "outputs": [
    {
     "name": "stdout",
     "output_type": "stream",
     "text": [
      "ah! DANGER\n",
      "nan\n"
     ]
    }
   ],
   "source": [
    "all_docs = []\n",
    "for d in df['text'].values:\n",
    "    try:\n",
    "        all_docs.append(list(get_sentences(d)))\n",
    "    except:\n",
    "        print(\"ah! DANGER\")\n",
    "        print(d)"
   ]
  },
  {
   "cell_type": "code",
   "execution_count": 69,
   "metadata": {},
   "outputs": [
    {
     "data": {
      "text/plain": [
       "287"
      ]
     },
     "execution_count": 69,
     "metadata": {},
     "output_type": "execute_result"
    }
   ],
   "source": [
    "len(all_docs)"
   ]
  },
  {
   "cell_type": "code",
   "execution_count": 64,
   "metadata": {},
   "outputs": [
    {
     "data": {
      "text/plain": [
       "(288, 6)"
      ]
     },
     "execution_count": 64,
     "metadata": {},
     "output_type": "execute_result"
    }
   ],
   "source": [
    "df.shape"
   ]
  },
  {
   "cell_type": "code",
   "execution_count": null,
   "metadata": {},
   "outputs": [],
   "source": [
    "find_best_over_docs(\"test available?\", all_docs)"
   ]
  },
  {
   "cell_type": "code",
   "execution_count": null,
   "metadata": {},
   "outputs": [],
   "source": []
  }
 ],
 "metadata": {
  "kernelspec": {
   "display_name": "Python 3",
   "language": "python",
   "name": "python3"
  },
  "language_info": {
   "codemirror_mode": {
    "name": "ipython",
    "version": 3
   },
   "file_extension": ".py",
   "mimetype": "text/x-python",
   "name": "python",
   "nbconvert_exporter": "python",
   "pygments_lexer": "ipython3",
   "version": "3.7.3"
  }
 },
 "nbformat": 4,
 "nbformat_minor": 2
}
