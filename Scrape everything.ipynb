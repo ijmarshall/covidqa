{
 "cells": [
  {
   "cell_type": "code",
   "execution_count": 1,
   "metadata": {},
   "outputs": [],
   "source": [
    "from scrapers import general_scraper"
   ]
  },
  {
   "cell_type": "code",
   "execution_count": 8,
   "metadata": {},
   "outputs": [
    {
     "name": "stderr",
     "output_type": "stream",
     "text": [
      "/Users/iain/Code/covid-qa/scrapers/oxford_cebm.py:21: UserWarning: No parser was explicitly specified, so I'm using the best available HTML parser for this system (\"lxml\"). This usually isn't a problem, but if you run this code on another system, or in a different virtual environment, it may use a different parser and behave differently.\n",
      "\n",
      "The code that caused this warning is on line 21 of the file /Users/iain/Code/covid-qa/scrapers/oxford_cebm.py. To get rid of this warning, pass the additional argument 'features=\"lxml\"' to the BeautifulSoup constructor.\n",
      "\n",
      "  return BeautifulSoup(page.content)\n"
     ]
    },
    {
     "name": "stdout",
     "output_type": "stream",
     "text": [
      "processing 18 links\n",
      "\n",
      "on link: https://www.cebm.net/spreading-sars-cov-2-through-ocular-fluids/\n",
      "trying to pull pdf from webpage...\n",
      "failed to get pdf for https://www.cebm.net/spreading-sars-cov-2-through-ocular-fluids/\n",
      "attempting to pull html...\n",
      "no dice.\n",
      "\n",
      "on link: https://www.cebm.net/how-can-we-maximise-mobility-in-the-elderly-when-isolated-with-covid-19/\n",
      "trying to pull pdf from webpage...\n",
      "failed to get pdf for https://www.cebm.net/how-can-we-maximise-mobility-in-the-elderly-when-isolated-with-covid-19/\n",
      "attempting to pull html...\n",
      "no dice.\n",
      "\n",
      "on link: https://www.cebm.net/what-is-the-evidence-for-mass-gatherings-during-global-pandemics/\n",
      "trying to pull pdf from webpage...\n",
      "failed to get pdf for https://www.cebm.net/what-is-the-evidence-for-mass-gatherings-during-global-pandemics/\n",
      "attempting to pull html...\n",
      "no dice.\n",
      "\n",
      "on link: https://www.cebm.net/what-is-the-evidence-for-social-distancing-during-global-pandemics-a-rapid-summary-of-current-knowledge/\n",
      "trying to pull pdf from webpage...\n",
      "failed to get pdf for https://www.cebm.net/what-is-the-evidence-for-social-distancing-during-global-pandemics-a-rapid-summary-of-current-knowledge/\n",
      "attempting to pull html...\n",
      "no dice.\n",
      "\n",
      "on link: https://www.cebm.net/rapid-diagnosis-strategy-of-community-acquired-pneumonia-for-clinician/\n",
      "trying to pull pdf from webpage...\n",
      "failed to get pdf for https://www.cebm.net/rapid-diagnosis-strategy-of-community-acquired-pneumonia-for-clinician/\n",
      "attempting to pull html...\n",
      "no dice.\n",
      "\n",
      "on link: https://www.cebm.net/rapidly-managing-pneumonia-in-older-people-during-a-pandemic/\n",
      "trying to pull pdf from webpage...\n",
      "failed to get pdf for https://www.cebm.net/rapidly-managing-pneumonia-in-older-people-during-a-pandemic/\n",
      "attempting to pull html...\n",
      "no dice.\n",
      "\n",
      "on link: https://www.cebm.net/wp-content/uploads/2020/03/Pneumonia-treatment-in-the-elderly-2.pdf\n",
      "direct pdf\n"
     ]
    },
    {
     "ename": "FileNotFoundError",
     "evalue": "[Errno 2] No such file or directory: '../pdfs/Pneumonia-treatment-in-the-elderly-2.pdf'",
     "output_type": "error",
     "traceback": [
      "\u001b[0;31m---------------------------------------------------------------------------\u001b[0m",
      "\u001b[0;31mFileNotFoundError\u001b[0m                         Traceback (most recent call last)",
      "\u001b[0;32m<ipython-input-8-2116e4b765f5>\u001b[0m in \u001b[0;36m<module>\u001b[0;34m\u001b[0m\n\u001b[1;32m      1\u001b[0m \u001b[0;32mfrom\u001b[0m \u001b[0mscrapers\u001b[0m \u001b[0;32mimport\u001b[0m \u001b[0moxford_cebm\u001b[0m\u001b[0;34m\u001b[0m\u001b[0;34m\u001b[0m\u001b[0m\n\u001b[0;32m----> 2\u001b[0;31m \u001b[0mdf\u001b[0m \u001b[0;34m=\u001b[0m \u001b[0moxford_cebm\u001b[0m\u001b[0;34m.\u001b[0m\u001b[0mpull_all\u001b[0m\u001b[0;34m(\u001b[0m\u001b[0;34m)\u001b[0m\u001b[0;34m\u001b[0m\u001b[0;34m\u001b[0m\u001b[0m\n\u001b[0m",
      "\u001b[0;32m~/Code/covid-qa/scrapers/oxford_cebm.py\u001b[0m in \u001b[0;36mpull_all\u001b[0;34m()\u001b[0m\n\u001b[1;32m     85\u001b[0m             \u001b[0mpdf_name\u001b[0m \u001b[0;34m=\u001b[0m \u001b[0mtitle\u001b[0m \u001b[0;34m+\u001b[0m \u001b[0;34m\".pdf\"\u001b[0m\u001b[0;34m\u001b[0m\u001b[0;34m\u001b[0m\u001b[0m\n\u001b[1;32m     86\u001b[0m             \u001b[0msaved_pdf_path\u001b[0m \u001b[0;34m=\u001b[0m \u001b[0;34m\"../pdfs/{}\"\u001b[0m\u001b[0;34m.\u001b[0m\u001b[0mformat\u001b[0m\u001b[0;34m(\u001b[0m\u001b[0mpdf_name\u001b[0m\u001b[0;34m)\u001b[0m\u001b[0;34m\u001b[0m\u001b[0;34m\u001b[0m\u001b[0m\n\u001b[0;32m---> 87\u001b[0;31m             \u001b[0mdownload_pdf\u001b[0m\u001b[0;34m(\u001b[0m\u001b[0mlink\u001b[0m\u001b[0;34m,\u001b[0m \u001b[0msaved_pdf_path\u001b[0m\u001b[0;34m)\u001b[0m\u001b[0;34m\u001b[0m\u001b[0;34m\u001b[0m\u001b[0m\n\u001b[0m\u001b[1;32m     88\u001b[0m         \u001b[0;32melse\u001b[0m\u001b[0;34m:\u001b[0m\u001b[0;34m\u001b[0m\u001b[0;34m\u001b[0m\u001b[0m\n\u001b[1;32m     89\u001b[0m             \u001b[0mprint\u001b[0m\u001b[0;34m(\u001b[0m\u001b[0;34m\"trying to pull pdf from webpage...\"\u001b[0m\u001b[0;34m)\u001b[0m\u001b[0;34m\u001b[0m\u001b[0;34m\u001b[0m\u001b[0m\n",
      "\u001b[0;32m~/Code/covid-qa/scrapers/oxford_cebm.py\u001b[0m in \u001b[0;36mdownload_pdf\u001b[0;34m(pdf_url, out_path)\u001b[0m\n\u001b[1;32m     56\u001b[0m     \u001b[0mr\u001b[0m \u001b[0;34m=\u001b[0m \u001b[0mrequests\u001b[0m\u001b[0;34m.\u001b[0m\u001b[0mget\u001b[0m\u001b[0;34m(\u001b[0m\u001b[0mpdf_url\u001b[0m\u001b[0;34m,\u001b[0m \u001b[0mstream\u001b[0m \u001b[0;34m=\u001b[0m \u001b[0;32mTrue\u001b[0m\u001b[0;34m)\u001b[0m\u001b[0;34m\u001b[0m\u001b[0;34m\u001b[0m\u001b[0m\n\u001b[1;32m     57\u001b[0m \u001b[0;34m\u001b[0m\u001b[0m\n\u001b[0;32m---> 58\u001b[0;31m     \u001b[0;32mwith\u001b[0m \u001b[0mopen\u001b[0m\u001b[0;34m(\u001b[0m\u001b[0mout_path\u001b[0m\u001b[0;34m,\u001b[0m\u001b[0;34m\"wb\"\u001b[0m\u001b[0;34m)\u001b[0m \u001b[0;32mas\u001b[0m \u001b[0mpdf\u001b[0m\u001b[0;34m:\u001b[0m\u001b[0;34m\u001b[0m\u001b[0;34m\u001b[0m\u001b[0m\n\u001b[0m\u001b[1;32m     59\u001b[0m         \u001b[0;32mfor\u001b[0m \u001b[0mchunk\u001b[0m \u001b[0;32min\u001b[0m \u001b[0mr\u001b[0m\u001b[0;34m.\u001b[0m\u001b[0miter_content\u001b[0m\u001b[0;34m(\u001b[0m\u001b[0mchunk_size\u001b[0m\u001b[0;34m=\u001b[0m\u001b[0;36m1024\u001b[0m\u001b[0;34m)\u001b[0m\u001b[0;34m:\u001b[0m\u001b[0;34m\u001b[0m\u001b[0;34m\u001b[0m\u001b[0m\n\u001b[1;32m     60\u001b[0m              \u001b[0;32mif\u001b[0m \u001b[0mchunk\u001b[0m\u001b[0;34m:\u001b[0m\u001b[0;34m\u001b[0m\u001b[0;34m\u001b[0m\u001b[0m\n",
      "\u001b[0;31mFileNotFoundError\u001b[0m: [Errno 2] No such file or directory: '../pdfs/Pneumonia-treatment-in-the-elderly-2.pdf'"
     ]
    }
   ],
   "source": [
    "from scrapers import oxford_cebm\n",
    "df = oxford_cebm.pull_all()"
   ]
  },
  {
   "cell_type": "code",
   "execution_count": 2,
   "metadata": {},
   "outputs": [
    {
     "name": "stderr",
     "output_type": "stream",
     "text": [
      "78it [00:09,  8.20it/s]\n"
     ]
    }
   ],
   "source": [
    "general_scraper.scrape(\"https://www.gov.uk/government/collections/wuhan-novel-coronavirus\", ['gov.uk'], \"data/govuk.csv\", \"answers/\", 1)"
   ]
  },
  {
   "cell_type": "code",
   "execution_count": 3,
   "metadata": {},
   "outputs": [
    {
     "name": "stderr",
     "output_type": "stream",
     "text": [
      "22it [00:10,  2.16it/s]\n"
     ]
    }
   ],
   "source": [
    "general_scraper.scrape(\"https://www.rcgp.org.uk/policy/rcgp-policy-areas/covid-19-coronavirus.aspx\", [\"rcgp.org.uk\"], \"data/rcgp.csv\", \"answers/\", 1)"
   ]
  },
  {
   "cell_type": "code",
   "execution_count": 5,
   "metadata": {},
   "outputs": [
    {
     "name": "stderr",
     "output_type": "stream",
     "text": [
      "175it [01:35,  1.84it/s]\n"
     ]
    }
   ],
   "source": [
    "general_scraper.scrape(\"https://bjgplife.com/\", [\"bjgplife.com\"], \"data/bjgplife.csv\", \"answers/\", 1)"
   ]
  },
  {
   "cell_type": "code",
   "execution_count": 6,
   "metadata": {},
   "outputs": [
    {
     "name": "stderr",
     "output_type": "stream",
     "text": [
      "47it [00:38,  1.21it/s]\n"
     ]
    }
   ],
   "source": [
    "general_scraper.scrape(\"https://www.gp-update.co.uk/updates\", [\"gp-update.co.uk\"], \"data/gpupdate.csv\", \"answers/\", 1)"
   ]
  },
  {
   "cell_type": "code",
   "execution_count": 7,
   "metadata": {},
   "outputs": [
    {
     "name": "stderr",
     "output_type": "stream",
     "text": [
      "79it [00:18,  4.22it/s]\n"
     ]
    }
   ],
   "source": [
    "general_scraper.scrape(\"https://www.nbmedical.com/downloads\", [\"nbmedical.com\"], \"data/nbmedical.csv\", \"answers/\", 1)"
   ]
  },
  {
   "cell_type": "code",
   "execution_count": null,
   "metadata": {},
   "outputs": [],
   "source": []
  }
 ],
 "metadata": {
  "kernelspec": {
   "display_name": "Python 3",
   "language": "python",
   "name": "python3"
  },
  "language_info": {
   "codemirror_mode": {
    "name": "ipython",
    "version": 3
   },
   "file_extension": ".py",
   "mimetype": "text/x-python",
   "name": "python",
   "nbconvert_exporter": "python",
   "pygments_lexer": "ipython3",
   "version": "3.7.4"
  }
 },
 "nbformat": 4,
 "nbformat_minor": 2
}
